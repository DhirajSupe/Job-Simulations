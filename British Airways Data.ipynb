{
 "cells": [
  {
   "cell_type": "markdown",
   "id": "50edf159",
   "metadata": {},
   "source": [
    "## Importing require Libraries : "
   ]
  },
  {
   "cell_type": "code",
   "execution_count": 1,
   "id": "f0df41a4",
   "metadata": {},
   "outputs": [],
   "source": [
    "import numpy as np\n",
    "import pandas as pd\n",
    "import matplotlib.pyplot as plt\n",
    "import seaborn as sns\n",
    "import requests\n",
    "from bs4 import BeautifulSoup"
   ]
  },
  {
   "cell_type": "markdown",
   "id": "6944fbbd",
   "metadata": {},
   "source": [
    "## Scraping the required data:"
   ]
  },
  {
   "cell_type": "code",
   "execution_count": 2,
   "id": "cbc823d2",
   "metadata": {},
   "outputs": [],
   "source": [
    "base_url = \"https://www.airlinequality.com/airline-reviews/british-airways\"\n",
    "pages = 10\n",
    "page_size = 100"
   ]
  },
  {
   "cell_type": "code",
   "execution_count": 3,
   "id": "fdcd98ca",
   "metadata": {},
   "outputs": [
    {
     "name": "stdout",
     "output_type": "stream",
     "text": [
      "Scraping page1\n",
      "    ---> 100 total reviews\n",
      "Scraping page2\n",
      "    ---> 200 total reviews\n",
      "Scraping page3\n",
      "    ---> 300 total reviews\n",
      "Scraping page4\n",
      "    ---> 400 total reviews\n",
      "Scraping page5\n",
      "    ---> 500 total reviews\n",
      "Scraping page6\n",
      "    ---> 600 total reviews\n",
      "Scraping page7\n",
      "    ---> 700 total reviews\n",
      "Scraping page8\n",
      "    ---> 800 total reviews\n",
      "Scraping page9\n",
      "    ---> 900 total reviews\n",
      "Scraping page10\n",
      "    ---> 1000 total reviews\n"
     ]
    }
   ],
   "source": [
    "reviews = []\n",
    "\n",
    "for i in range(1, pages + 1):\n",
    "    print(f\"Scraping page{i}\")\n",
    "    \n",
    "    # create URL to collect links from paginated data\n",
    "    url = f\"{base_url}/page/{i}/?sortby=post_date%3ADesc&pagesize={page_size}\"\n",
    "    \n",
    "    # Collect HTML data from this page\n",
    "    response = requests.get(url)\n",
    "    \n",
    "    # parse the content\n",
    "    content = response.content\n",
    "    parsed_content = BeautifulSoup(content, 'html.parser')\n",
    "    \n",
    "    for para in parsed_content.find_all(\"div\",{\"class\":\"text_content\"}):\n",
    "        reviews.append(para.get_text())\n",
    "        \n",
    "    print(f\"    ---> {len(reviews)} total reviews\")    "
   ]
  },
  {
   "cell_type": "markdown",
   "id": "914ee5d8",
   "metadata": {},
   "source": [
    "## Creating DataFrame:"
   ]
  },
  {
   "cell_type": "code",
   "execution_count": 4,
   "id": "ba41d439",
   "metadata": {},
   "outputs": [
    {
     "data": {
      "text/html": [
       "<div>\n",
       "<style scoped>\n",
       "    .dataframe tbody tr th:only-of-type {\n",
       "        vertical-align: middle;\n",
       "    }\n",
       "\n",
       "    .dataframe tbody tr th {\n",
       "        vertical-align: top;\n",
       "    }\n",
       "\n",
       "    .dataframe thead th {\n",
       "        text-align: right;\n",
       "    }\n",
       "</style>\n",
       "<table border=\"1\" class=\"dataframe\">\n",
       "  <thead>\n",
       "    <tr style=\"text-align: right;\">\n",
       "      <th></th>\n",
       "      <th>reviews</th>\n",
       "    </tr>\n",
       "  </thead>\n",
       "  <tbody>\n",
       "    <tr>\n",
       "      <th>0</th>\n",
       "      <td>✅ Trip Verified |   The seats were excellent, ...</td>\n",
       "    </tr>\n",
       "    <tr>\n",
       "      <th>1</th>\n",
       "      <td>✅ Trip Verified |   After the nightmare of get...</td>\n",
       "    </tr>\n",
       "    <tr>\n",
       "      <th>2</th>\n",
       "      <td>✅ Trip Verified |   Prior to boarding a gate a...</td>\n",
       "    </tr>\n",
       "    <tr>\n",
       "      <th>3</th>\n",
       "      <td>✅ Trip Verified |   I flew from Amsterdam to L...</td>\n",
       "    </tr>\n",
       "    <tr>\n",
       "      <th>4</th>\n",
       "      <td>✅ Trip Verified | First the good news, the clu...</td>\n",
       "    </tr>\n",
       "  </tbody>\n",
       "</table>\n",
       "</div>"
      ],
      "text/plain": [
       "                                             reviews\n",
       "0  ✅ Trip Verified |   The seats were excellent, ...\n",
       "1  ✅ Trip Verified |   After the nightmare of get...\n",
       "2  ✅ Trip Verified |   Prior to boarding a gate a...\n",
       "3  ✅ Trip Verified |   I flew from Amsterdam to L...\n",
       "4  ✅ Trip Verified | First the good news, the clu..."
      ]
     },
     "execution_count": 4,
     "metadata": {},
     "output_type": "execute_result"
    }
   ],
   "source": [
    "data = pd.DataFrame()\n",
    "data[\"reviews\"] = reviews\n",
    "data.head()"
   ]
  },
  {
   "cell_type": "markdown",
   "id": "2b76e883",
   "metadata": {},
   "source": [
    "## Converting it to CSV file:"
   ]
  },
  {
   "cell_type": "code",
   "execution_count": 5,
   "id": "dae6c0e7",
   "metadata": {},
   "outputs": [],
   "source": [
    "data.to_csv(\"BA_reviews.csv\")"
   ]
  },
  {
   "cell_type": "code",
   "execution_count": 6,
   "id": "a3f89e5e",
   "metadata": {},
   "outputs": [
    {
     "name": "stdout",
     "output_type": "stream",
     "text": [
      "                                               reviews\n",
      "0    ✅ Trip Verified |   The seats were excellent, ...\n",
      "1    ✅ Trip Verified |   After the nightmare of get...\n",
      "2    ✅ Trip Verified |   Prior to boarding a gate a...\n",
      "3    ✅ Trip Verified |   I flew from Amsterdam to L...\n",
      "4    ✅ Trip Verified | First the good news, the clu...\n",
      "..                                                 ...\n",
      "995  ✅ Trip Verified |  Sydney to London via Singap...\n",
      "996  Not Verified |  London to Johannesburg. Britis...\n",
      "997  ✅ Trip Verified | I have to say travelling in ...\n",
      "998  Not Verified |  I had a stress free journey wi...\n",
      "999  ✅ Trip Verified |  Edinburgh to Kuala Lumpur v...\n",
      "\n",
      "[1000 rows x 1 columns]\n"
     ]
    }
   ],
   "source": [
    "print(data)"
   ]
  },
  {
   "cell_type": "markdown",
   "id": "baf02983",
   "metadata": {},
   "source": [
    "## Removing unwanted text part and symbols from reviews column:"
   ]
  },
  {
   "cell_type": "code",
   "execution_count": 7,
   "id": "92db67e0",
   "metadata": {},
   "outputs": [],
   "source": [
    "def remove_tic(column):\n",
    "    return column.str.replace('✅ Trip Verified |','')"
   ]
  },
  {
   "cell_type": "code",
   "execution_count": 8,
   "id": "b18ce6f9",
   "metadata": {},
   "outputs": [
    {
     "name": "stderr",
     "output_type": "stream",
     "text": [
      "<ipython-input-7-2467e2f79fbd>:2: FutureWarning: The default value of regex will change from True to False in a future version.\n",
      "  return column.str.replace('✅ Trip Verified |','')\n"
     ]
    }
   ],
   "source": [
    "data['reviews'] = remove_tic(data['reviews'])"
   ]
  },
  {
   "cell_type": "code",
   "execution_count": 9,
   "id": "b3efbee2",
   "metadata": {},
   "outputs": [],
   "source": [
    "def remove_nt(column):\n",
    "    return column.str.replace('Not Verified |','')"
   ]
  },
  {
   "cell_type": "code",
   "execution_count": 10,
   "id": "413aaac3",
   "metadata": {},
   "outputs": [
    {
     "name": "stderr",
     "output_type": "stream",
     "text": [
      "<ipython-input-9-7e6cf5d772bc>:2: FutureWarning: The default value of regex will change from True to False in a future version.\n",
      "  return column.str.replace('Not Verified |','')\n"
     ]
    }
   ],
   "source": [
    "data['reviews'] = remove_nt(data['reviews'])"
   ]
  },
  {
   "cell_type": "code",
   "execution_count": 11,
   "id": "119c0dfb",
   "metadata": {},
   "outputs": [
    {
     "data": {
      "text/html": [
       "<div>\n",
       "<style scoped>\n",
       "    .dataframe tbody tr th:only-of-type {\n",
       "        vertical-align: middle;\n",
       "    }\n",
       "\n",
       "    .dataframe tbody tr th {\n",
       "        vertical-align: top;\n",
       "    }\n",
       "\n",
       "    .dataframe thead th {\n",
       "        text-align: right;\n",
       "    }\n",
       "</style>\n",
       "<table border=\"1\" class=\"dataframe\">\n",
       "  <thead>\n",
       "    <tr style=\"text-align: right;\">\n",
       "      <th></th>\n",
       "      <th>reviews</th>\n",
       "    </tr>\n",
       "  </thead>\n",
       "  <tbody>\n",
       "    <tr>\n",
       "      <th>0</th>\n",
       "      <td>|   The seats were excellent, with a feel of m...</td>\n",
       "    </tr>\n",
       "    <tr>\n",
       "      <th>1</th>\n",
       "      <td>|   After the nightmare of getting through tri...</td>\n",
       "    </tr>\n",
       "    <tr>\n",
       "      <th>2</th>\n",
       "      <td>|   Prior to boarding a gate agent seemed to p...</td>\n",
       "    </tr>\n",
       "    <tr>\n",
       "      <th>3</th>\n",
       "      <td>|   I flew from Amsterdam to Las Vegas with a ...</td>\n",
       "    </tr>\n",
       "    <tr>\n",
       "      <th>4</th>\n",
       "      <td>| First the good news, the club suites are suc...</td>\n",
       "    </tr>\n",
       "    <tr>\n",
       "      <th>...</th>\n",
       "      <td>...</td>\n",
       "    </tr>\n",
       "    <tr>\n",
       "      <th>995</th>\n",
       "      <td>|  Sydney to London via Singapore with British...</td>\n",
       "    </tr>\n",
       "    <tr>\n",
       "      <th>996</th>\n",
       "      <td>|  London to Johannesburg. British Airways is ...</td>\n",
       "    </tr>\n",
       "    <tr>\n",
       "      <th>997</th>\n",
       "      <td>| I have to say travelling in Club Europe is a...</td>\n",
       "    </tr>\n",
       "    <tr>\n",
       "      <th>998</th>\n",
       "      <td>|  I had a stress free journey with my 8 yr ol...</td>\n",
       "    </tr>\n",
       "    <tr>\n",
       "      <th>999</th>\n",
       "      <td>|  Edinburgh to Kuala Lumpur via London. I hav...</td>\n",
       "    </tr>\n",
       "  </tbody>\n",
       "</table>\n",
       "<p>1000 rows × 1 columns</p>\n",
       "</div>"
      ],
      "text/plain": [
       "                                               reviews\n",
       "0    |   The seats were excellent, with a feel of m...\n",
       "1    |   After the nightmare of getting through tri...\n",
       "2    |   Prior to boarding a gate agent seemed to p...\n",
       "3    |   I flew from Amsterdam to Las Vegas with a ...\n",
       "4    | First the good news, the club suites are suc...\n",
       "..                                                 ...\n",
       "995  |  Sydney to London via Singapore with British...\n",
       "996  |  London to Johannesburg. British Airways is ...\n",
       "997  | I have to say travelling in Club Europe is a...\n",
       "998  |  I had a stress free journey with my 8 yr ol...\n",
       "999  |  Edinburgh to Kuala Lumpur via London. I hav...\n",
       "\n",
       "[1000 rows x 1 columns]"
      ]
     },
     "execution_count": 11,
     "metadata": {},
     "output_type": "execute_result"
    }
   ],
   "source": [
    "data"
   ]
  },
  {
   "cell_type": "markdown",
   "id": "b4d6f827",
   "metadata": {},
   "source": [
    "# Classifying the reviews in positive and negative reviews :"
   ]
  },
  {
   "cell_type": "markdown",
   "id": "fb38a095",
   "metadata": {},
   "source": [
    "### Applying Sentiment Analysis using TextBlob:"
   ]
  },
  {
   "cell_type": "code",
   "execution_count": 12,
   "id": "f3227e25",
   "metadata": {},
   "outputs": [],
   "source": [
    "from textblob import TextBlob"
   ]
  },
  {
   "cell_type": "code",
   "execution_count": 13,
   "id": "e353315b",
   "metadata": {},
   "outputs": [],
   "source": [
    "data['sentiment_score'] = data['reviews'].apply(lambda review: TextBlob(str(review)).sentiment.polarity)"
   ]
  },
  {
   "cell_type": "markdown",
   "id": "2acb1729",
   "metadata": {},
   "source": [
    "### Classifying the reviews based on polarity Score:"
   ]
  },
  {
   "cell_type": "code",
   "execution_count": 14,
   "id": "df63221c",
   "metadata": {},
   "outputs": [],
   "source": [
    "data['sentiment_label'] = data['sentiment_score'].apply(lambda score: \"Positve\" if score > 0 else (\"Negative\" if score <0 else \"Neutral\"))"
   ]
  },
  {
   "cell_type": "code",
   "execution_count": 15,
   "id": "10f2c443",
   "metadata": {},
   "outputs": [
    {
     "data": {
      "text/html": [
       "<div>\n",
       "<style scoped>\n",
       "    .dataframe tbody tr th:only-of-type {\n",
       "        vertical-align: middle;\n",
       "    }\n",
       "\n",
       "    .dataframe tbody tr th {\n",
       "        vertical-align: top;\n",
       "    }\n",
       "\n",
       "    .dataframe thead th {\n",
       "        text-align: right;\n",
       "    }\n",
       "</style>\n",
       "<table border=\"1\" class=\"dataframe\">\n",
       "  <thead>\n",
       "    <tr style=\"text-align: right;\">\n",
       "      <th></th>\n",
       "      <th>reviews</th>\n",
       "      <th>sentiment_score</th>\n",
       "      <th>sentiment_label</th>\n",
       "    </tr>\n",
       "  </thead>\n",
       "  <tbody>\n",
       "    <tr>\n",
       "      <th>0</th>\n",
       "      <td>|   The seats were excellent, with a feel of m...</td>\n",
       "      <td>0.357407</td>\n",
       "      <td>Positve</td>\n",
       "    </tr>\n",
       "    <tr>\n",
       "      <th>1</th>\n",
       "      <td>|   After the nightmare of getting through tri...</td>\n",
       "      <td>0.051178</td>\n",
       "      <td>Positve</td>\n",
       "    </tr>\n",
       "    <tr>\n",
       "      <th>2</th>\n",
       "      <td>|   Prior to boarding a gate agent seemed to p...</td>\n",
       "      <td>-0.076786</td>\n",
       "      <td>Negative</td>\n",
       "    </tr>\n",
       "    <tr>\n",
       "      <th>3</th>\n",
       "      <td>|   I flew from Amsterdam to Las Vegas with a ...</td>\n",
       "      <td>0.037584</td>\n",
       "      <td>Positve</td>\n",
       "    </tr>\n",
       "    <tr>\n",
       "      <th>4</th>\n",
       "      <td>| First the good news, the club suites are suc...</td>\n",
       "      <td>0.139035</td>\n",
       "      <td>Positve</td>\n",
       "    </tr>\n",
       "    <tr>\n",
       "      <th>...</th>\n",
       "      <td>...</td>\n",
       "      <td>...</td>\n",
       "      <td>...</td>\n",
       "    </tr>\n",
       "    <tr>\n",
       "      <th>995</th>\n",
       "      <td>|  Sydney to London via Singapore with British...</td>\n",
       "      <td>0.091667</td>\n",
       "      <td>Positve</td>\n",
       "    </tr>\n",
       "    <tr>\n",
       "      <th>996</th>\n",
       "      <td>|  London to Johannesburg. British Airways is ...</td>\n",
       "      <td>0.110300</td>\n",
       "      <td>Positve</td>\n",
       "    </tr>\n",
       "    <tr>\n",
       "      <th>997</th>\n",
       "      <td>| I have to say travelling in Club Europe is a...</td>\n",
       "      <td>-0.053472</td>\n",
       "      <td>Negative</td>\n",
       "    </tr>\n",
       "    <tr>\n",
       "      <th>998</th>\n",
       "      <td>|  I had a stress free journey with my 8 yr ol...</td>\n",
       "      <td>0.176058</td>\n",
       "      <td>Positve</td>\n",
       "    </tr>\n",
       "    <tr>\n",
       "      <th>999</th>\n",
       "      <td>|  Edinburgh to Kuala Lumpur via London. I hav...</td>\n",
       "      <td>0.673333</td>\n",
       "      <td>Positve</td>\n",
       "    </tr>\n",
       "  </tbody>\n",
       "</table>\n",
       "<p>1000 rows × 3 columns</p>\n",
       "</div>"
      ],
      "text/plain": [
       "                                               reviews  sentiment_score  \\\n",
       "0    |   The seats were excellent, with a feel of m...         0.357407   \n",
       "1    |   After the nightmare of getting through tri...         0.051178   \n",
       "2    |   Prior to boarding a gate agent seemed to p...        -0.076786   \n",
       "3    |   I flew from Amsterdam to Las Vegas with a ...         0.037584   \n",
       "4    | First the good news, the club suites are suc...         0.139035   \n",
       "..                                                 ...              ...   \n",
       "995  |  Sydney to London via Singapore with British...         0.091667   \n",
       "996  |  London to Johannesburg. British Airways is ...         0.110300   \n",
       "997  | I have to say travelling in Club Europe is a...        -0.053472   \n",
       "998  |  I had a stress free journey with my 8 yr ol...         0.176058   \n",
       "999  |  Edinburgh to Kuala Lumpur via London. I hav...         0.673333   \n",
       "\n",
       "    sentiment_label  \n",
       "0           Positve  \n",
       "1           Positve  \n",
       "2          Negative  \n",
       "3           Positve  \n",
       "4           Positve  \n",
       "..              ...  \n",
       "995         Positve  \n",
       "996         Positve  \n",
       "997        Negative  \n",
       "998         Positve  \n",
       "999         Positve  \n",
       "\n",
       "[1000 rows x 3 columns]"
      ]
     },
     "execution_count": 15,
     "metadata": {},
     "output_type": "execute_result"
    }
   ],
   "source": [
    "data"
   ]
  },
  {
   "cell_type": "code",
   "execution_count": 16,
   "id": "78776657",
   "metadata": {},
   "outputs": [],
   "source": [
    "d = data[\"sentiment_label\"].value_counts()"
   ]
  },
  {
   "cell_type": "code",
   "execution_count": 17,
   "id": "846d7015",
   "metadata": {},
   "outputs": [
    {
     "data": {
      "image/png": "[encoded data removed]",
      "text/plain": [
       "<Figure size 720x720 with 1 Axes>"
      ]
     },
     "metadata": {},
     "output_type": "display_data"
    }
   ],
   "source": [
    "plt.figure(figsize =(10,10))\n",
    "plt.pie(x = d, labels = d.keys(),autopct = \"%1.1f%%\",colors = sns.color_palette(\"pastel6\"),textprops = {'fontsize': 16})\n",
    "plt.title(\"Sentiments Distribution :  Positive or Negative\", fontsize = 20)\n",
    "plt.show()"
   ]
  },
  {
   "cell_type": "markdown",
   "id": "b4b11ac8",
   "metadata": {},
   "source": [
    "# Conclusion : From the above dataset we can say that 61.5% reviews from customer are Positive, 37.3% are negative reviews and 1.2% are the Neutral reviews."
   ]
  },
  {
   "cell_type": "code",
   "execution_count": null,
   "id": "a2260d02",
   "metadata": {},
   "outputs": [],
   "source": []
  }
 ],
 "metadata": {
  "kernelspec": {
   "display_name": "Python 3",
   "language": "python",
   "name": "python3"
  },
  "language_info": {
   "codemirror_mode": {
    "name": "ipython",
    "version": 3
   },
   "file_extension": ".py",
   "mimetype": "text/x-python",
   "name": "python",
   "nbconvert_exporter": "python",
   "pygments_lexer": "ipython3",
   "version": "3.8.8"
  }
 },
 "nbformat": 4,
 "nbformat_minor": 5
}
